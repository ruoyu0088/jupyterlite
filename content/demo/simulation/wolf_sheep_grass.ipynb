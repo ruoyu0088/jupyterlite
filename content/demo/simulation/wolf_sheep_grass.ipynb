{
  "metadata": {
    "kernelspec": {
      "name": "python",
      "display_name": "Python (Pyodide)",
      "language": "python"
    },
    "language_info": {
      "codemirror_mode": {
        "name": "python",
        "version": 3
      },
      "file_extension": ".py",
      "mimetype": "text/x-python",
      "name": "python",
      "nbconvert_exporter": "python",
      "pygments_lexer": "ipython3",
      "version": "3.8"
    }
  },
  "nbformat_minor": 5,
  "nbformat": 4,
  "cells": [
    {
      "id": "7b536bd3-778d-42d1-aef4-675cb9f0cdf0",
      "cell_type": "markdown",
      "source": "# 🐺🐑🌿 Wolf–Sheep–Grass Model",
      "metadata": {}
    },
    {
      "id": "5dbffb4c-ae52-4e94-ba2e-dfbbf0ed7233",
      "cell_type": "markdown",
      "source": "This model simulates the interactions between **wolves**, **sheep**, and **grass** in a simple ecosystem.\n\n* **Sheep** move randomly and eat grass to gain energy.\n* **Wolves** hunt sheep to survive.\n* **Grass** regrows after a fixed period of time.\n  Each species consumes energy to move and may reproduce based on a probability rate.\n  The balance between grass regrowth, sheep reproduction, and wolf predation creates complex population dynamics often leading to cycles of boom and collapse.\n\nこのモデルは、**オオカミ**、**ヒツジ**、**草** の三者が関わるシンプルな生態系をシミュレーションします。\n\n* **ヒツジ** はランダムに移動し、草を食べてエネルギーを得ます。\n* **オオカミ** はヒツジを捕食して生き延びます。\n* **草** は一定の時間が経過すると再び生えます。\n  各個体は移動するたびにエネルギーを消費し、一定の確率で繁殖します。\n  草の再生速度、ヒツジの繁殖率、オオカミの捕食行動のバランスによって、個体数が周期的に変動するダイナミクスが生まれます。\n\n该模型模拟了一个由 **狼**、**羊** 和 **草** 构成的简单生态系统。\n\n* **羊** 随机移动并吃草获得能量；\n* **狼** 通过捕食羊来维持生存；\n* **草** 在一定时间后会重新长出来。\n  每个生物在移动时都会消耗能量，并以一定的概率繁殖。\n  草的再生速度、羊的繁殖率与狼的捕食之间的平衡，会导致种群数量出现周期性的波动与演化。\n\n\n## ⚙️ Parameters Table\n\n| Parameter          | Description (English)                          | 説明（日本語）                | 说明（中文）       | Default |\n| ------------------ | ---------------------------------------------- | ---------------------- | ------------ | ------- |\n| `init_sheep_count` | Initial number of sheep                        | 初期のヒツジの数               | 初始羊的数量       | 100     |\n| `init_wolf_count`  | Initial number of wolves                       | 初期のオオカミの数              | 初始狼的数量       | 50      |\n| `sheep_born_rate`  | Probability for a sheep to reproduce each step | ヒツジが繁殖する確率             | 羊每一步的繁殖概率    | 0.05    |\n| `wolf_born_rate`   | Probability for a wolf to reproduce each step  | オオカミが繁殖する確率            | 狼每一步的繁殖概率    | 0.03    |\n| `sheep_gain`       | Energy gained by sheep from eating grass       | 草を食べたときにヒツジが得るエネルギー    | 羊吃草获得的能量     | 4       |\n| `wolf_gain`        | Energy gained by wolves from eating a sheep    | オオカミがヒツジを食べたときに得るエネルギー | 狼吃羊获得的能量     | 20      |\n| `grass_time`       | Time for brown patch to regrow green grass     | 草が再生するまでの時間            | 草从枯萎到再生所需的时间 | 30      |\n| `sheep_speed`      | Maximum distance a sheep can move per step     | ヒツジの移動速度               | 羊的移动速度       | 1       |\n| `wolf_speed`       | Maximum distance a wolf can move per step      | オオカミの移動速度              | 狼的移动速度       | 2       |\n| `steps`            | Number of simulation steps to run              | シミュレーションのステップ数         | 模拟运行的步数      | 1000    |",
      "metadata": {}
    },
    {
      "id": "3512f99e-c66e-4e3b-9afb-f9dd17bbe10a",
      "cell_type": "code",
      "source": "import matplotlib, numpy, ipywidgets, plotly",
      "metadata": {
        "trusted": true
      },
      "outputs": [],
      "execution_count": 1
    },
    {
      "id": "ca67e7d5-ba9f-4ab3-af39-3df2225159c5",
      "cell_type": "code",
      "source": "%run -i wolf_sheep_grass.py",
      "metadata": {
        "trusted": true
      },
      "outputs": [],
      "execution_count": 3
    },
    {
      "id": "31df78c9-bd0a-48e2-9832-f4755804df93",
      "cell_type": "code",
      "source": "gui()",
      "metadata": {
        "trusted": true
      },
      "outputs": [
        {
          "execution_count": 4,
          "output_type": "execute_result",
          "data": {
            "text/plain": "VBox(children=(IntSlider(value=100, description='Init Sheep', max=500, min=10, step=10), IntSlider(value=50, d…",
            "application/vnd.jupyter.widget-view+json": {
              "version_major": 2,
              "version_minor": 0,
              "model_id": "699e3d7d454249d2aef461381aa9a836"
            }
          },
          "metadata": {}
        }
      ],
      "execution_count": 4
    }
  ]
}