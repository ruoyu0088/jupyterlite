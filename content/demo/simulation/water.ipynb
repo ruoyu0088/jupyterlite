{
  "metadata": {
    "kernelspec": {
      "name": "python",
      "display_name": "Python (Pyodide)",
      "language": "python"
    },
    "language_info": {
      "codemirror_mode": {
        "name": "python",
        "version": 3
      },
      "file_extension": ".py",
      "mimetype": "text/x-python",
      "name": "python",
      "nbconvert_exporter": "python",
      "pygments_lexer": "ipython3",
      "version": "3.8"
    }
  },
  "nbformat_minor": 5,
  "nbformat": 4,
  "cells": [
    {
      "id": "c76ea59d-a6ab-483c-b4e0-8adb181f38ea",
      "cell_type": "markdown",
      "source": "# Surface Waves\n\nThis program simulates the phenomenon of surface water ripples. The algorithm is based on a finite difference approximation of the wave equation on a discretized 2D space. Specifically, the next state is updated according to the following formula:\n\n$$\nu_{\\text{next}}(i,j) = \\left( 0.25 \\times (u(i-1,j) + u(i+1,j) + u(i,j-1) + u(i,j+1) - 4u(i,j)) + 2u(i,j) - u_{\\text{prev}}(i,j) \\right) \\times \\text{dump}\n$$\n\nWhere:\n\n- $u(i,j)$ is the value at position $(i,j)$ at the current time\n- $u_{\\text{prev}}(i,j)$ is the value at position $(i,j)$ at the previous time\n- $u_{\\text{next}}(i,j)$ is the value at position $(i,j)$ at the next time\n- $\\text{dump}$ is the damping factor (0.98), which gradually weakens the oscillations\n\nExternal force is injected at the position where the mouse cursor moves.\n\n---\n\nこのプログラムは、水面波紋のような現象をシミュレートします。そのアルゴリズムは、離散化された2次元空間上における波動方程式の差分近似に基づいています。具体的には、以下の式に従って次のステップの状態を更新しています：\n\n$$\nu_{\\text{next}}(i,j) = \\left( 0.25 \\times (u(i-1,j) + u(i+1,j) + u(i,j-1) + u(i,j+1) - 4u(i,j)) + 2u(i,j) - u_{\\text{prev}}(i,j) \\right) \\times \\text{dump}\n$$\n\nここで：\n\n- $u(i,j)$ は現在の時刻における位置 $(i,j)$ の値\n- $u_{\\text{prev}}(i,j)$ は前の時刻における位置 $(i,j)$ の値\n- $u_{\\text{next}}(i,j)$ は次の時刻における位置 $(i,j)$ の値\n- $\\text{dump}$ は減衰係数（0.98）であり、振動が徐々に弱まる効果を持つ\n\nマウスカーソルが動いた位置に、外力を注入します。\n\n---\n\n本程序模拟水面波纹现象。其算法基于离散二维空间上的波动方程的差分近似。具体而言，下一步的状态按照以下公式更新：\n\n$$\nu_{\\text{next}}(i,j) = \\left( 0.25 \\times (u(i-1,j) + u(i+1,j) + u(i,j-1) + u(i,j+1) - 4u(i,j)) + 2u(i,j) - u_{\\text{prev}}(i,j) \\right) \\times \\text{dump}\n$$\n\n其中：\n\n- $u(i,j)$ 表示当前位置 $(i,j)$ 在当前时刻的值\n- $u_{\\text{prev}}(i,j)$ 表示位置 $(i,j)$ 在上一个时刻的值\n- $u_{\\text{next}}(i,j)$ 表示位置 $(i,j)$ 在下一个时刻的值\n- $\\text{dump}$ 是衰减系数（0.98），用于逐渐减弱振动\n\n在鼠标光标移动的位置注入外力。",
      "metadata": {}
    },
    {
      "id": "0efbffd1-83a5-44a9-9ea7-ed98c5f857b3",
      "cell_type": "code",
      "source": "import numpy as np\nimport cv2\nimport matplotlib\nimport ipywidgets\nimport anywidget",
      "metadata": {
        "trusted": true
      },
      "outputs": [],
      "execution_count": 1
    },
    {
      "id": "b2f6b74f-f3a3-47f9-8558-60ec90f892bc",
      "cell_type": "code",
      "source": "from water import sim_water",
      "metadata": {
        "trusted": true
      },
      "outputs": [],
      "execution_count": 2
    },
    {
      "id": "a95d5d7a-75a3-481f-9b28-f9705c25d88b",
      "cell_type": "code",
      "source": "task = sim_water()",
      "metadata": {
        "trusted": true
      },
      "outputs": [
        {
          "output_type": "display_data",
          "data": {
            "text/plain": "ImageWidget(height=300, width=300)",
            "application/vnd.jupyter.widget-view+json": {
              "version_major": 2,
              "version_minor": 1,
              "model_id": "7cfd31e859c24c11b1acb183420de7c8"
            }
          },
          "metadata": {}
        }
      ],
      "execution_count": 3
    }
  ]
}