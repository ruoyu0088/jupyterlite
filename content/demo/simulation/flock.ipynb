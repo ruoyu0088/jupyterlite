{
  "metadata": {
    "kernelspec": {
      "name": "python",
      "display_name": "Python (Pyodide)",
      "language": "python"
    },
    "language_info": {
      "codemirror_mode": {
        "name": "python",
        "version": 3
      },
      "file_extension": ".py",
      "mimetype": "text/x-python",
      "name": "python",
      "nbconvert_exporter": "python",
      "pygments_lexer": "ipython3",
      "version": "3.8"
    }
  },
  "nbformat_minor": 5,
  "nbformat": 4,
  "cells": [
    {
      "id": "bd0c11c4-dbc1-4937-9aee-3c039d970d2e",
      "cell_type": "markdown",
      "source": "# Flock-like Particle Simulation",
      "metadata": {}
    },
    {
      "id": "310a00c7-5121-4d0f-accf-547188510669",
      "cell_type": "markdown",
      "source": "This notebook demonstrates a **flock-like particle simulation** implemented entirely in the browser using **`ipywidgets`** and **`anywidget`**.\nEach particle moves according to three basic behavioral rules — **alignment**, **cohesion**, and **separation** — which together create a dynamic flocking pattern.\nYou can interactively adjust these parameters using sliders and observe the motion in real time on a canvas.\nSince everything runs in the browser (via JupyterLite), no backend server or Python installation is required.\n\nこのノートブックは、**`ipywidgets`** と **`anywidget`** を使ってブラウザ上だけで動作する\n**群れ風の粒子シミュレーション** をデモンストレーションします。\n粒子は「整列（alignment）」「結合（cohesion）」「分離（separation）」の3つのルールに従って動き、\nそれらの相互作用によって群れのような動きを生成します。\nスライダーを使って各パラメータを調整し、キャンバス上でリアルタイムに変化を見ることができます。\nJupyterLite上で動作するため、サーバーやPythonのインストールは不要です。\n\n本笔记展示了一个完全在浏览器中运行的 **类群体行为粒子模拟**，\n使用 **`ipywidgets`** 与 **`anywidget`** 实现。\n每个粒子根据三条基本规则运动：**对齐（alignment）**、**聚合（cohesion）** 和 **分离（separation）**。\n通过滑块可以交互式调整这些参数，并在画布上实时观察粒子的动态。\n由于一切都在浏览器中运行（基于 JupyterLite），无需服务器或本地 Python 环境。",
      "metadata": {}
    },
    {
      "id": "8877ff6b-4721-4288-a849-be0f45b3e6b6",
      "cell_type": "code",
      "source": "import ipywidgets\nimport anywidget\nimport polars as pl\nimport numpy as np\nimport asyncio",
      "metadata": {
        "trusted": true
      },
      "outputs": [],
      "execution_count": 1
    },
    {
      "id": "3df77171-6e01-4b1c-948e-effcee93af26",
      "cell_type": "code",
      "source": "from flock import gui",
      "metadata": {
        "trusted": true
      },
      "outputs": [],
      "execution_count": 2
    },
    {
      "id": "2519ef7b-8ce8-4733-8e33-b2b2040e0be4",
      "cell_type": "code",
      "source": "gui()",
      "metadata": {
        "trusted": true
      },
      "outputs": [
        {
          "execution_count": 3,
          "output_type": "execute_result",
          "data": {
            "text/plain": "VBox(children=(IntRangeSlider(value=(30, 40), continuous_update=False, description='Alignment', min=10), IntRa…",
            "application/vnd.jupyter.widget-view+json": {
              "version_major": 2,
              "version_minor": 0,
              "model_id": "7efcb00e61d84578be2810e61135f3fc"
            }
          },
          "metadata": {}
        }
      ],
      "execution_count": 3
    }
  ]
}