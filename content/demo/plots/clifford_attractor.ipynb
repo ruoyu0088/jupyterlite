{
  "metadata": {
    "kernelspec": {
      "name": "python",
      "display_name": "Python (Pyodide)",
      "language": "python"
    },
    "language_info": {
      "codemirror_mode": {
        "name": "python",
        "version": 3
      },
      "file_extension": ".py",
      "mimetype": "text/x-python",
      "name": "python",
      "nbconvert_exporter": "python",
      "pygments_lexer": "ipython3",
      "version": "3.8"
    }
  },
  "nbformat_minor": 5,
  "nbformat": 4,
  "cells": [
    {
      "id": "eec9b4c7-2289-4bfe-97ea-00971b6212ff",
      "cell_type": "markdown",
      "source": "# Clifford Attractor",
      "metadata": {}
    },
    {
      "id": "d066f581-84cb-4bc1-8e0a-0715f5607c44",
      "cell_type": "markdown",
      "source": "The **Clifford Attractor** is a type of strange attractor defined by a pair of nonlinear equations involving sine and cosine functions.\nIt was introduced by Clifford A. Pickover and is known for producing intricate, cloud-like fractal patterns.\nBy changing the parameters *(a, b, c, d)*, you can explore a wide variety of beautiful structures that reveal the hidden order within chaotic systems.\n\n$$\n\\begin{aligned}\nx_{n+1} &= \\sin(a y_n) + c \\cos(a x_n), \\\\\ny_{n+1} &= \\sin(b x_n) + d \\cos(b y_n).\n\\end{aligned}\n$$\n\n**クリフォードアトラクター**は、サイン関数とコサイン関数を用いた非線形方程式によって定義される、ストレンジアトラクターの一種です。\nクリフォード・A・ピックオーバーによって紹介され、美しい雲状のフラクタル模様を生成することで知られています。\nパラメータ *(a, b, c, d)* を変化させることで、カオスの中に潜む秩序を示す多様で魅力的な構造を観察することができます。\n\n**Clifford 吸引子**是一种由正弦与余弦非线性方程定义的奇异吸引子。\n它由 Clifford A. Pickover 提出，以能生成复杂且优美的云状分形图案而著称。\n通过调整参数 *(a, b, c, d)*，可以探索混沌系统中蕴藏的各种精巧结构与隐秘秩序。",
      "metadata": {}
    },
    {
      "id": "b9e2702d-863c-4d41-b707-527d12629091",
      "cell_type": "code",
      "source": "import cffi, numpy, ipywidgets, matplotlib",
      "metadata": {
        "trusted": true
      },
      "outputs": [],
      "execution_count": 41
    },
    {
      "id": "3ea3466c-631e-4d75-a88b-700a5d08a2ca",
      "cell_type": "code",
      "source": "%run -i clifford.py",
      "metadata": {
        "trusted": true
      },
      "outputs": [],
      "execution_count": 42
    },
    {
      "id": "f7b7c8ac-6022-4b5e-8220-98b2e71524de",
      "cell_type": "code",
      "source": "clifford_gui()",
      "metadata": {
        "trusted": true
      },
      "outputs": [
        {
          "execution_count": 43,
          "output_type": "execute_result",
          "data": {
            "text/plain": "VBox(children=(FloatSlider(value=1.9, continuous_update=False, description='a', max=2.0, min=-2.0, step=0.01),…",
            "application/vnd.jupyter.widget-view+json": {
              "version_major": 2,
              "version_minor": 0,
              "model_id": "01a8aeffd2044254bf59909541ee0ae5"
            }
          },
          "metadata": {}
        }
      ],
      "execution_count": 43
    },
    {
      "id": "a18165ca-a33c-4fd0-8425-60a8cc1181f5",
      "cell_type": "code",
      "source": "import io\nimport cffi\nimport numpy as np\nimport ipywidgets as widgets\nimport matplotlib.pyplot as plt\n\nfrom cffi import FFI\n\nffi = FFI()\n\n# Declare the C function signature\nffi.cdef(\"\"\"\nvoid clifford_attractor(double a, double b, double c, double d,\n                        unsigned int *image, int width, int height, int n);\n\"\"\")\n\nlib = ffi.dlopen('clifford.wasm')\n\ndef clifford_attractor(a, b, c, d, n, width=500, height=500):\n    # Create a uint32 NumPy array for the image\n    image = np.zeros((height, width), dtype=np.uint32)\n\n    # Get C pointer\n    ptr = ffi.cast(\"unsigned int *\", image.ctypes.data)\n\n    # Call the C function\n    lib.clifford_attractor(a, b, c, d, ptr, width, height, n)\n\n    return image\n\ndef clifford_gui():\n    a_slider = widgets.FloatSlider(description=\"a\", min=-2, max=2, step=0.01, value=1.9, continuous_update=False)\n    b_slider = widgets.FloatSlider(description=\"b\", min=-2, max=2, step=0.01, value=1.9, continuous_update=False)\n    c_slider = widgets.FloatSlider(description=\"c\", min=-2, max=2, step=0.01, value=1.9, continuous_update=False)\n    d_slider = widgets.FloatSlider(description=\"d\", min=-2, max=2, step=0.01, value=0.8, continuous_update=False)\n    \n    n_box = widgets.BoundedIntText(description=\"n\", min=100000, max=50_000_000,\n                                   step=1_000_000, value=5_000_000)\n    \n    cmap_dropdown = widgets.Dropdown(\n        options=sorted(plt.colormaps()),\n        value=\"magma\",\n        description=\"Colormap\"\n    )\n    \n    plot_button = widgets.Button(description=\"Plot\", button_style=\"success\")\n    \n    # --- Image output widget ---\n    img_widget = widgets.Image(format=\"png\", layout=widgets.Layout(width=\"400px\"))\n    \n    # --- Function to render attractor and convert to PNG bytes ---\n    def render_png(a, b, c, d, n, cmap):\n        # Generate attractor\n        img = clifford_attractor(a, b, c, d, n)\n    \n        # Plot figure without axes\n        fig, ax = plt.subplots(figsize=(6, 6), dpi=100)\n        ax.imshow(np.log1p(img), cmap=cmap, origin=\"lower\")\n        ax.axis(\"off\")\n    \n        # Convert to PNG bytes\n        buf = io.BytesIO()\n        fig.savefig(buf, format=\"png\", bbox_inches=\"tight\", pad_inches=0)\n        plt.close(fig)\n        buf.seek(0)\n        return buf.read()\n    \n    # --- Event handler ---\n    def on_plot_clicked(_):\n        plot_button.description = \"Plotting...\"\n        plot_button.disabled = True\n    \n        a, b_, c, d = a_slider.value, b_slider.value, c_slider.value, d_slider.value\n        n = n_box.value\n        cmap = cmap_dropdown.value\n    \n        png_bytes = render_png(a, b_, c, d, n, cmap)\n        img_widget.value = png_bytes\n    \n        plot_button.description = \"Plot\"\n        plot_button.disabled = False\n    \n    plot_button.on_click(on_plot_clicked)\n    on_plot_clicked(None)\n    \n    ui = widgets.VBox([\n        a_slider, b_slider,\n        c_slider, d_slider,\n        n_box, cmap_dropdown, plot_button,\n        img_widget\n    ])\n    return ui",
      "metadata": {
        "trusted": true
      },
      "outputs": [],
      "execution_count": null
    },
    {
      "id": "bd87c2dd-88b2-4625-b00c-3709afdfa4a0",
      "cell_type": "code",
      "source": "clifford_gui()",
      "metadata": {
        "trusted": true
      },
      "outputs": [
        {
          "execution_count": 40,
          "output_type": "execute_result",
          "data": {
            "text/plain": "VBox(children=(FloatSlider(value=1.9, continuous_update=False, description='a', max=2.0, min=-2.0, step=0.01),…",
            "application/vnd.jupyter.widget-view+json": {
              "version_major": 2,
              "version_minor": 0,
              "model_id": "8afaf5ac3ec6472ca8f65b54fade75af"
            }
          },
          "metadata": {}
        }
      ],
      "execution_count": 40
    },
    {
      "id": "52266cbb-bec5-4368-a391-fe97f6f41ad4",
      "cell_type": "code",
      "source": "",
      "metadata": {
        "trusted": true
      },
      "outputs": [],
      "execution_count": null
    }
  ]
}