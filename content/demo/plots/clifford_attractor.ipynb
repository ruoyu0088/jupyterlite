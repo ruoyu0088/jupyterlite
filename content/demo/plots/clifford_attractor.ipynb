{
  "cells": [
    {
      "cell_type": "markdown",
      "id": "eec9b4c7-2289-4bfe-97ea-00971b6212ff",
      "metadata": {},
      "source": [
        "# Clifford Attractor"
      ]
    },
    {
      "cell_type": "markdown",
      "id": "d066f581-84cb-4bc1-8e0a-0715f5607c44",
      "metadata": {},
      "source": [
        "The **Clifford Attractor** is a type of strange attractor defined by a pair of nonlinear equations involving sine and cosine functions.\n",
        "It was introduced by Clifford A. Pickover and is known for producing intricate, cloud-like fractal patterns.\n",
        "By changing the parameters *(a, b, c, d)*, you can explore a wide variety of beautiful structures that reveal the hidden order within chaotic systems.\n",
        "\n",
        "$$\n",
        "\\begin{aligned}\n",
        "x_{n+1} &= \\sin(a y_n) + c \\cos(a x_n), \\\\\n",
        "y_{n+1} &= \\sin(b x_n) + d \\cos(b y_n).\n",
        "\\end{aligned}\n",
        "$$\n",
        "\n",
        "**クリフォードアトラクター**は、サイン関数とコサイン関数を用いた非線形方程式によって定義される、ストレンジアトラクターの一種です。\n",
        "クリフォード・A・ピックオーバーによって紹介され、美しい雲状のフラクタル模様を生成することで知られています。\n",
        "パラメータ *(a, b, c, d)* を変化させることで、カオスの中に潜む秩序を示す多様で魅力的な構造を観察することができます。\n",
        "\n",
        "**Clifford 吸引子**是一种由正弦与余弦非线性方程定义的奇异吸引子。\n",
        "它由 Clifford A. Pickover 提出，以能生成复杂且优美的云状分形图案而著称。\n",
        "通过调整参数 *(a, b, c, d)*，可以探索混沌系统中蕴藏的各种精巧结构与隐秘秩序。"
      ]
    },
    {
      "cell_type": "code",
      "execution_count": 41,
      "id": "b9e2702d-863c-4d41-b707-527d12629091",
      "metadata": {
        "trusted": true
      },
      "outputs": [],
      "source": [
        "import cffi, numpy, ipywidgets, matplotlib"
      ]
    },
    {
      "cell_type": "code",
      "execution_count": 42,
      "id": "3ea3466c-631e-4d75-a88b-700a5d08a2ca",
      "metadata": {
        "trusted": true
      },
      "outputs": [],
      "source": [
        "%run -i clifford.py"
      ]
    },
    {
      "cell_type": "code",
      "execution_count": 43,
      "id": "f7b7c8ac-6022-4b5e-8220-98b2e71524de",
      "metadata": {
        "trusted": true
      },
      "outputs": [
        {
          "data": {
            "application/vnd.jupyter.widget-view+json": {
              "model_id": "01a8aeffd2044254bf59909541ee0ae5",
              "version_major": 2,
              "version_minor": 0
            },
            "text/plain": [
              "VBox(children=(FloatSlider(value=1.9, continuous_update=False, description='a', max=2.0, min=-2.0, step=0.01),…"
            ]
          },
          "execution_count": 43,
          "metadata": {},
          "output_type": "execute_result"
        }
      ],
      "source": [
        "clifford_gui()"
      ]
    }
  ],
  "metadata": {
    "kernelspec": {
      "display_name": "Python (Pyodide)",
      "language": "python",
      "name": "python"
    },
    "language_info": {
      "codemirror_mode": {
        "name": "python",
        "version": 3
      },
      "file_extension": ".py",
      "mimetype": "text/x-python",
      "name": "python",
      "nbconvert_exporter": "python",
      "pygments_lexer": "ipython3",
      "version": "3.8"
    }
  },
  "nbformat": 4,
  "nbformat_minor": 5
}
