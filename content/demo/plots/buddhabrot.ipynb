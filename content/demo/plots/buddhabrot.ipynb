{
  "metadata": {
    "kernelspec": {
      "name": "python",
      "display_name": "Python (Pyodide)",
      "language": "python"
    },
    "language_info": {
      "codemirror_mode": {
        "name": "python",
        "version": 3
      },
      "file_extension": ".py",
      "mimetype": "text/x-python",
      "name": "python",
      "nbconvert_exporter": "python",
      "pygments_lexer": "ipython3",
      "version": "3.8"
    }
  },
  "nbformat_minor": 5,
  "nbformat": 4,
  "cells": [
    {
      "id": "ae97da87-5b0f-400f-8732-8a2291a1a313",
      "cell_type": "markdown",
      "source": "# Buddhabrot\n\nThis notebook allows you to generate and visualize the **Buddhabrot fractal** using two computation modes implemented in **C** and loaded via **CFFI**.",
      "metadata": {}
    },
    {
      "id": "ca4689dc-1450-4c80-b525-17dfe381f1f1",
      "cell_type": "code",
      "source": "import numpy as np\nfrom cffi import FFI\nimport matplotlib.pyplot as plt\nimport ipywidgets",
      "metadata": {
        "trusted": true
      },
      "outputs": [],
      "execution_count": 1
    },
    {
      "id": "a8052a2f-e346-4c67-9027-e957450e692e",
      "cell_type": "code",
      "source": "from buddhabrot import buddhabrot_gui",
      "metadata": {
        "trusted": true
      },
      "outputs": [],
      "execution_count": 2
    },
    {
      "id": "6ed11777-94f3-4067-a916-6ce4b1bd7883",
      "cell_type": "markdown",
      "source": "## Interface Overview\n\nThe GUI consists of the following interactive controls:\n\n| Control              | Type         | Description                                                                                                                                         |\n| -------------------- | ------------ | --------------------------------------------------------------------------------------------------------------------------------------------------- |\n| **Computation Mode** | RadioButtons | Select between the two available C functions:<br>• `buddhabrot_grid` — Computes over a fixed grid.<br>• `buddhabrot_random` — Uses random sampling. |\n| **Image Size**       | Dropdown     | Choose the width and height of the generated image.<br>Available sizes: `200, 300, 400, 500, 600, 700, 800`                                         |\n| **Scale**            | IntSlider    | Sets the detail scale (used in grid mode). Larger values increase iteration resolution.                                                             |\n| **n_samples**        | IntSlider    | Number of random samples (used in random mode). Higher values improve image quality but increase computation time.                                  |\n| **Colormap**         | Dropdown     | Select any available colormap from Matplotlib (e.g. `hot`, `inferno`, `plasma`, `viridis`, `gray`, etc.)                                            |\n| **Generate Button**  | Button       | Click to compute and display the Buddhabrot fractal based on the selected settings.        ",
      "metadata": {}
    },
    {
      "id": "34d5706c-8db0-4e2b-a1f3-9bc4959c1d45",
      "cell_type": "code",
      "source": "buddhabrot_gui()",
      "metadata": {
        "trusted": true
      },
      "outputs": [
        {
          "execution_count": 3,
          "output_type": "execute_result",
          "data": {
            "text/plain": "VBox(children=(HBox(children=(RadioButtons(description='Function:', index=1, options=('buddhabrot_grid', 'budd…",
            "application/vnd.jupyter.widget-view+json": {
              "version_major": 2,
              "version_minor": 0,
              "model_id": "e810cf0792fa429995c7272c709f7a40"
            }
          },
          "metadata": {}
        }
      ],
      "execution_count": 3
    }
  ]
}