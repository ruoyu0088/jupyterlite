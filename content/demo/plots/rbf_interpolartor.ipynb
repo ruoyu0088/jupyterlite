{
  "metadata": {
    "kernelspec": {
      "name": "python",
      "display_name": "Python (Pyodide)",
      "language": "python"
    },
    "language_info": {
      "codemirror_mode": {
        "name": "python",
        "version": 3
      },
      "file_extension": ".py",
      "mimetype": "text/x-python",
      "name": "python",
      "nbconvert_exporter": "python",
      "pygments_lexer": "ipython3",
      "version": "3.8"
    }
  },
  "nbformat_minor": 5,
  "nbformat": 4,
  "cells": [
    {
      "id": "e0a61c54-62d2-49ea-8a65-9b4c2d9a0d28",
      "cell_type": "markdown",
      "source": "# Radial Basis Function Interpolation Demo\n\nThis interactive JupyterLite demo visualizes **Radial Basis Function (RBF) interpolation** in both 1D and 2D/3D.\nYou can adjust parameters such as the kernel type, smoothing factor, epsilon, and polynomial degree using sliders and dropdowns.\nThe **1D tab** shows the interpolation curve computed from sample points, while the **2D/3D tab** displays a surface reconstructed from scattered data points.\nAll computations run entirely in your browser using **Pyodide**, with no server required.\n\nこのインタラクティブな JupyterLite デモは、**RBF（放射基底関数）補間**を 1次元および 2次元／3次元で可視化します。\nカーネルの種類、スムージング係数、イプシロン、ポリノミアル次数などのパラメータをスライダーやドロップダウンで調整できます。\n**1D タブ**ではサンプル点から補間された曲線を、**2D/3D タブ**では離散データから再構成された曲面を表示します。\nすべての計算は **Pyodide** によりブラウザ上で実行され、サーバーは不要です。\n\n这个交互式 JupyterLite 演示展示了 **径向基函数（RBF）插值** 的一维和二维／三维可视化。\n你可以通过滑块和下拉菜单调整参数，例如核函数类型、平滑系数、epsilon 和多项式阶数。\n**1D 选项卡**显示由样本点计算出的插值曲线，**2D/3D 选项卡**展示由散点重建的曲面。\n所有计算都在浏览器中通过 **Pyodide** 完成，无需服务器。",
      "metadata": {}
    },
    {
      "id": "c487e625-e3bd-4472-b138-65bb311e8cf0",
      "cell_type": "code",
      "source": "import numpy, scipy, plotly, ipywidgets, matplotlib",
      "metadata": {
        "trusted": true
      },
      "outputs": [],
      "execution_count": 6
    },
    {
      "id": "070755fc-3a5a-4690-862a-2fe430f37025",
      "cell_type": "code",
      "source": "%run -i rbf_interpolartor.py",
      "metadata": {
        "trusted": true
      },
      "outputs": [
        {
          "output_type": "display_data",
          "data": {
            "text/plain": "VBox(children=(VBox(children=(HTML(value='<h3>🎯 RBFInterpolator Demo</h3>'), Dropdown(description='Kernel:', i…",
            "application/vnd.jupyter.widget-view+json": {
              "version_major": 2,
              "version_minor": 0,
              "model_id": "f3d54d967ba64381b8c08b7ec3b6c5eb"
            }
          },
          "metadata": {}
        }
      ],
      "execution_count": 7
    }
  ]
}