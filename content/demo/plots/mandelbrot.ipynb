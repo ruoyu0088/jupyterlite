{
  "metadata": {
    "kernelspec": {
      "name": "python",
      "display_name": "Python (Pyodide)",
      "language": "python"
    },
    "language_info": {
      "codemirror_mode": {
        "name": "python",
        "version": 3
      },
      "file_extension": ".py",
      "mimetype": "text/x-python",
      "name": "python",
      "nbconvert_exporter": "python",
      "pygments_lexer": "ipython3",
      "version": "3.8"
    }
  },
  "nbformat_minor": 5,
  "nbformat": 4,
  "cells": [
    {
      "id": "9ad3a82c-9401-44c3-a8fa-b7ac50900930",
      "cell_type": "markdown",
      "source": "# Mandelbrot Set",
      "metadata": {}
    },
    {
      "id": "e7fd8d67-6203-47b3-8921-1d0bbccdf304",
      "cell_type": "markdown",
      "source": "The Mandelbrot set is a set of points in the complex plane that form a fractal pattern. It is defined by the following complex quadratic polynomial:\n\n$$f_c(z) = z^{2} + c$$\n\nHere, the variable of the complex function $f_c(z)$ is $z$, and $c$ is a complex parameter. For each value of $c$, the function $f_c(z)$ is iterated starting from $z=0$. The sequence $(0, f_c(0), f_c(f_c(0)), f_c(f_c(f_c(0))), \\\\ldots)$ either diverges to infinity or remains bounded within a finite disk. The Mandelbrot set is the collection of all $c$ values for which the sequence does not diverge.\n\nThis program draws the Mandelbrot set in real-time. You can zoom in and out with the mouse wheel and pan the view by dragging with the left mouse button.\n\nMandelbrot集合は、複素平面上でフラクタルなパターンを形成する点の集合です。次の複素二次多項式で定義されます：\n\n$$f_c(z) = z^{2} + c$$\n\nここで、複素関数$f_c(z)$の変数は$z$です。そして$c$は複素数のパラメータであり、各$c$について、$z=0$から$f_c(z)$を反復して適用します。列$(0, f_c(0), f_c(f_c(0)), f_c(f_c(f_c(0))), \\\\ldots)$は、無限大に発散するか、または有限の半径の円盤内にとどまります。Mandelbrot集合とは、この列が発散しないすべての$c$の集合です。\n\nこのプログラムはMandelbrot集合をリアルタイムで描画します。マウスホイールでズームイン・ズームアウトができ、左クリックを押しながらドラッグすることで視点を移動できます。\n\nMandelbrot集合是在复平面上构成分形图案的点的集合。它可以用下面的复二次多项式定义：\n\n$$f_c(z) =z^{2}+ c$$\n\n其中复数函数$f_c(z)$的自变量为$z$。而$c$是一个复数参数，对于每一个$c$，从$z=0$开始对函数$f_c(z)$进行迭代。序列$(0, f_c(0), f_c(f_c(0)), f_c(f_c(f_c(0))), \\\\ldots)$的值或者延伸到无限大，或者只停留在有限半径的圆盘内。Mandelbrot集合就是使以上序列不发散的所有参数$c$的集合。\n\n本程序实时绘制Mandelbrot集合，可以通过鼠标滚轮放大缩小视图，按住鼠标左键拖动移动视图。",
      "metadata": {}
    },
    {
      "id": "fe7bd21c-09a2-4bda-bd5e-51fdbde5c948",
      "cell_type": "code",
      "source": "import cv2\nimport numpy as np\nimport matplotlib\nimport ipywidgets\nimport anywidget\nimport cffi",
      "metadata": {
        "trusted": true
      },
      "outputs": [],
      "execution_count": 1
    },
    {
      "id": "1b169392-7f3d-4831-83b8-e1e74486401f",
      "cell_type": "code",
      "source": "from mandelbrot import mandelbrot_gui",
      "metadata": {
        "trusted": true
      },
      "outputs": [],
      "execution_count": 2
    },
    {
      "id": "7838cf59-2163-4ed1-ae71-0f320be495aa",
      "cell_type": "code",
      "source": "mandelbrot_gui()",
      "metadata": {
        "trusted": true
      },
      "outputs": [
        {
          "execution_count": 3,
          "output_type": "execute_result",
          "data": {
            "text/plain": "VBox(children=(Dropdown(description='Colormap:', index=122, options=('Accent', 'Accent_r', 'Blues', 'Blues_r',…",
            "application/vnd.jupyter.widget-view+json": {
              "version_major": 2,
              "version_minor": 0,
              "model_id": "43d7a48cde2b4c4099f19c2ae19f9465"
            }
          },
          "metadata": {}
        }
      ],
      "execution_count": 3
    }
  ]
}